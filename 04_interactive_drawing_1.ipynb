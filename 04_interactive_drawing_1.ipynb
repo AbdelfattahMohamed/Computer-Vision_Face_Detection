{
 "cells": [
  {
   "cell_type": "code",
   "execution_count": 7,
   "metadata": {},
   "outputs": [
    {
     "ename": "IndentationError",
     "evalue": "expected an indented block (<ipython-input-7-6f47d82c4bf0>, line 14)",
     "output_type": "error",
     "traceback": [
      "\u001b[1;36m  File \u001b[1;32m\"<ipython-input-7-6f47d82c4bf0>\"\u001b[1;36m, line \u001b[1;32m14\u001b[0m\n\u001b[1;33m    pt1 = (0.0)\u001b[0m\n\u001b[1;37m      ^\u001b[0m\n\u001b[1;31mIndentationError\u001b[0m\u001b[1;31m:\u001b[0m expected an indented block\n"
     ]
    }
   ],
   "source": [
    "import cv2\n",
    "\n",
    "# callback function for the Mouse, Rectangle\n",
    "def draw_rectangle(event, x, y, flags, param):\n",
    "\n",
    "    # write your global param\n",
    "    global pt1, pt2, top_left_clicked, bottom_right_clicked\n",
    "    \n",
    "    # create an event for left button Down and assigned it to event\n",
    "    if event == cv2.EVENT_LBUTTONDOWN:\n",
    "    # RESET YOUR RECTANGLE\n",
    "        if top_left_clicked == True and bottom_right_clicked == True:\n",
    "        # GIVE 0 Vaalues to pt1 & pt2\n",
    "        pt1 = (0.0)\n",
    "        pt2 = (0,0)\n",
    "        # Give False Value to your Trackers\n",
    "        top_left_cliked = False\n",
    "        bottom_right_cliked = False\n",
    "            \n",
    "    # Check the top_left_clicked if it's False\n",
    "    if top_left_clicked == False:\n",
    "        pt1 = (x,y)\n",
    "        top_left_clicked = True\n",
    "    # check the bottom_right_clicked if it's False\n",
    "    elif bottom_right_clicked == False:\n",
    "        pt2 = (x,y)\n",
    "        bottom_right_clicked = True\n",
    "\n",
    "# pt2 , pt2 Global Variables \n",
    "pt1 = (0,0)\n",
    "pt2 = (0,0)\n",
    "\n",
    "#Trackers are false\n",
    "top_left_cliked = False\n",
    "bottom_right_cliked = False\n",
    "\n",
    "# Take a video\n",
    "cap = cv2.VideoCapture(0)\n",
    "\n",
    "# Create a named  window for the connections\n",
    "cv2.namedWindow('Test')\n",
    "\n",
    "# Set a Mouse callback\n",
    "cv2.setMouseCallback('Test',draw _rectangle)\n",
    "\n",
    "# Time for Magic\n",
    "while True:\n",
    "    \n",
    "    # Capture the frame\n",
    "    ret , frame = cap.read()\n",
    "    #based on the Global Variables Draw the Frame\n",
    "    if top_left_clikcked == True:\n",
    "        cv2.circle(frame,\n",
    "                  center = pt1,\n",
    "                  radius = 5,\n",
    "                  color = (255,0,255),\n",
    "                  thickness = -1)\n",
    "        \n",
    "        # Draw a circle on the frame\n",
    "        if top_left_clicked == True and bottom_right_clicked == True:\n",
    "            cv2.rectangle(frame,\n",
    "                          pt1,\n",
    "                          pt2,\n",
    "                          (0,0,255),\n",
    "                          3)\n",
    "    # Show the frame\n",
    "    cv2.imshow('frame',frame)\n",
    "    # 27 == esc button. you can use any other like ord('q')\n",
    "    # if you try to close the window pressing the x, you'll get in trouble(_)\n",
    "    if cv2.waitKey(3) & 0xFF == 27:\n",
    "        break\n",
    "#Nwevver Forget first release\n",
    "# And the destroy\n",
    "cap.release()\n",
    "cv2.destroyAllWindows()"
   ]
  },
  {
   "cell_type": "code",
   "execution_count": null,
   "metadata": {},
   "outputs": [],
   "source": []
  }
 ],
 "metadata": {
  "kernelspec": {
   "display_name": "Python 3",
   "language": "python",
   "name": "python3"
  },
  "language_info": {
   "codemirror_mode": {
    "name": "ipython",
    "version": 3
   },
   "file_extension": ".py",
   "mimetype": "text/x-python",
   "name": "python",
   "nbconvert_exporter": "python",
   "pygments_lexer": "ipython3",
   "version": "3.7.6"
  }
 },
 "nbformat": 4,
 "nbformat_minor": 4
}
