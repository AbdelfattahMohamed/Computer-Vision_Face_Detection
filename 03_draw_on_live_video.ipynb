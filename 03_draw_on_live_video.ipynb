{
 "cells": [
  {
   "cell_type": "code",
   "execution_count": 2,
   "metadata": {},
   "outputs": [],
   "source": [
    "import cv2\n",
    "\n",
    "cap = cv2.VideoCapture(0)"
   ]
  },
  {
   "cell_type": "code",
   "execution_count": 3,
   "metadata": {},
   "outputs": [],
   "source": [
    "width = int(cap.get(cv2.CAP_PROP_FRAME_WIDTH))\n",
    "height = int(cap.get(cv2.CAP_PROP_FRAME_HEIGHT))"
   ]
  },
  {
   "cell_type": "code",
   "execution_count": 4,
   "metadata": {},
   "outputs": [],
   "source": [
    "# Top left corner\n",
    "# we devide with // the width and height of the frame\n",
    "# in order to get an integer as a result\n",
    "x = width //2\n",
    "y = height //2"
   ]
  },
  {
   "cell_type": "code",
   "execution_count": 5,
   "metadata": {},
   "outputs": [],
   "source": [
    "# Rectangle width and height\n",
    "# 1/4 of the actual video screen \n",
    "w = width // 4\n",
    "h = height // 4"
   ]
  },
  {
   "cell_type": "code",
   "execution_count": 6,
   "metadata": {},
   "outputs": [],
   "source": [
    "# Bottom Right Corner == x + w , y + h\n"
   ]
  },
  {
   "cell_type": "code",
   "execution_count": null,
   "metadata": {},
   "outputs": [],
   "source": [
    "# It's kind of Magic!\n",
    "while True:\n",
    "    ret , frame = cap.read()\n",
    "    \n",
    "    # Rectangle frame\n",
    "    cv2.rectangle(\n",
    "                frame,\n",
    "                (x,y),\n",
    "                (x+w , y+h),\n",
    "                color = (255,0,255),\n",
    "                thickness = 5\n",
    "                )\n",
    "    # show it\n",
    "    cv2.imshow('frame',frame)\n",
    "    \n",
    "    # 27 == esc button. you can use any other like ord('q')\n",
    "    # if you try to close the window pressing the x, you'll get in trouble(_)\n",
    "    if cv2.waitKey(3) & 0xFF == 27:\n",
    "        break\n",
    "#Nwevver Forget first release\n",
    "# And the destroy\n",
    "cap.release()\n",
    "cv2.destroyAllWindows()"
   ]
  },
  {
   "cell_type": "code",
   "execution_count": null,
   "metadata": {},
   "outputs": [],
   "source": []
  }
 ],
 "metadata": {
  "kernelspec": {
   "display_name": "Python 3",
   "language": "python",
   "name": "python3"
  },
  "language_info": {
   "codemirror_mode": {
    "name": "ipython",
    "version": 3
   },
   "file_extension": ".py",
   "mimetype": "text/x-python",
   "name": "python",
   "nbconvert_exporter": "python",
   "pygments_lexer": "ipython3",
   "version": "3.7.6"
  }
 },
 "nbformat": 4,
 "nbformat_minor": 4
}
