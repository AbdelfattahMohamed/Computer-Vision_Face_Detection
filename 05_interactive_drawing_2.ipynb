{
 "cells": [
  {
   "cell_type": "code",
   "execution_count": null,
   "metadata": {
    "slideshow": {
     "slide_type": "subslide"
    }
   },
   "outputs": [],
   "source": [
    "import cv2"
   ]
  },
  {
   "cell_type": "code",
   "execution_count": null,
   "metadata": {},
   "outputs": [],
   "source": [
    "# Callback Function for the Mousw , circle \n",
    "def draw_circle(event,\n",
    "               x,\n",
    "               y,\n",
    "               flags,\n",
    "               param):\n",
    "    \n",
    "    global center, clicked\n",
    "    # Get the Mouse click Down & Up\n",
    "    # and Track the center\n",
    "    if event == cv2.EVENT_LBUTTONDOWN:\n",
    "        center = (x,y)\n",
    "        clicked = False\n",
    "    if event == cv2.EVENT_LBUTTONDOWN:\n",
    "        clicked = True\n",
    "        \n",
    "# Zero Drawing of the circle\n",
    "center = (0,0)\n",
    "clicked  = False\n",
    "\n",
    " # Take a video\n",
    "cap = cv2.VideoCapture(0)\n",
    "\n",
    "# Create a named  window for the connections\n",
    "cv2.namedWindow('Testing')\n",
    "\n",
    "# Set a Mouse callback\n",
    "cv2.setMouseCallback('Testing', draw_circle)   \n",
    "\n",
    "# Time for Magic\n",
    "while True:\n",
    "    \n",
    "    # Capture the frame\n",
    "    ret , frame = cap.read()\n",
    "    # check if clicked is true\n",
    "    if clikcked:\n",
    "        # Draw a circle on the frame\n",
    "            cv2.clikck(frame,\n",
    "                       center = center,\n",
    "                        radius = 50,\n",
    "                        color = (255,0,255),\n",
    "                        thickness = 3)\n",
    "    # Show the frame\n",
    "    cv2.imshow('frame',frame)\n",
    "    # 27 == esc button. you can use any other like ord('q')\n",
    "    # if you try to close the window pressing the x, you'll get in trouble(_)\n",
    "    if cv2.waitKey(3) & 0xFF == 27:\n",
    "        break\n",
    "#Nwevver Forget first release\n",
    "# And the destroy\n",
    "cap.release()\n",
    "cv2.destroyAllWindows()"
   ]
  },
  {
   "cell_type": "code",
   "execution_count": null,
   "metadata": {},
   "outputs": [],
   "source": []
  }
 ],
 "metadata": {
  "celltoolbar": "Raw Cell Format",
  "kernelspec": {
   "display_name": "Python 3",
   "language": "python",
   "name": "python3"
  },
  "language_info": {
   "codemirror_mode": {
    "name": "ipython",
    "version": 3
   },
   "file_extension": ".py",
   "mimetype": "text/x-python",
   "name": "python",
   "nbconvert_exporter": "python",
   "pygments_lexer": "ipython3",
   "version": "3.7.6"
  }
 },
 "nbformat": 4,
 "nbformat_minor": 4
}
